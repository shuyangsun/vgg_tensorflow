{
 "cells": [
  {
   "cell_type": "code",
   "execution_count": 1,
   "metadata": {},
   "outputs": [],
   "source": [
    "import numpy as np\n",
    "import tensorflow as tf\n",
    "import matplotlib.pyplot as plt\n",
    "import time\n",
    "import tempfile\n",
    "import os"
   ]
  },
  {
   "cell_type": "code",
   "execution_count": 2,
   "metadata": {},
   "outputs": [],
   "source": [
    "def plot_loss_graph(train_loss, dev_loss, use_log=True):\n",
    "    if use_log:\n",
    "        train_loss = np.log(train_loss)\n",
    "        dev_loss = np.log(dev_loss)\n",
    "    plt.figure(figsize=(10, 6))\n",
    "    train_line, = plt.plot(train_loss, label='train')\n",
    "    dev_line, = plt.plot(dev_loss, label='dev')\n",
    "    plt.legend(handles=[train_line, dev_line])\n",
    "    plt.show()"
   ]
  },
  {
   "cell_type": "markdown",
   "metadata": {},
   "source": [
    "## 1. Define VGG-16 Architecture"
   ]
  },
  {
   "cell_type": "code",
   "execution_count": 3,
   "metadata": {},
   "outputs": [],
   "source": [
    "class VGG16:\n",
    "    def __init__(self, img_size, num_categories, learning_rate, momentum=0.9, filter_size=(3, 3)):\n",
    "        self._tf_graph = tf.Graph()\n",
    "        self._saved_model_path = os.path.join(tempfile.mkdtemp(), 'model.ckpt')\n",
    "        self._tf_dict = self._get_tf_dict(self._tf_graph, img_size, num_categories, learning_rate, momentum)\n",
    "        self._train_loss = []\n",
    "        self._dev_loss = []\n",
    "\n",
    "    def train(self, dataset, batch_size, num_epoch, loss_interval=10):\n",
    "        print('Started training...')\n",
    "        \n",
    "        self._train_loss = []\n",
    "        self._dev_loss = []\n",
    "        \n",
    "        start = time.time()\n",
    "        sample_count = 0\n",
    "        with self._tf_graph.as_default():\n",
    "            with tf.Session(graph=self._tf_graph) as sess:\n",
    "                sess.run(tf.global_variables_initializer())\n",
    "                last_epoch = 0\n",
    "                while last_epoch < num_epoch:\n",
    "                    batch = dataset.train.next_batch(batch_size)\n",
    "                    feed_dict = {\n",
    "                        self._tf_dict['X']: batch[0],\n",
    "                        self._tf_dict['Y']: batch[1]\n",
    "                    }\n",
    "                    sess.run(self._tf_dict['optimizer'], feed_dict=feed_dict)\n",
    "                    sample_count += batch[0].shape[0]\n",
    "                    epoch = sample_count // batch_size\n",
    "                    if epoch > last_epoch:\n",
    "                        last_epoch = epoch\n",
    "                        if epoch % loss_interval == 0:\n",
    "                            self._train_loss.append(sess.run(self._tf_dict['cost'], feed_dict={\n",
    "                                self._tf_dict['X']: batch[0],\n",
    "                                self._tf_dict['Y']: batch[1]\n",
    "                            }))\n",
    "                            self._dev_loss.append(sess.run(self._tf_dict['cost'], feed_dict={\n",
    "                                self._tf_dict['X']: dataset.test.images,\n",
    "                                self._tf_dict['Y']: dataset.test.labels\n",
    "                            }))\n",
    "                    if (epoch + 1) % 100 == 0:\n",
    "                        print('Finished epoch {0}...'.format(epoch + 1))\n",
    "                saver = tf.train.Saver()\n",
    "                saver.save(sess, self._saved_model_path)\n",
    "                print('Finished training, modeld saved.')\n",
    "\n",
    "                end = time.time()\n",
    "                print('Time elapsed: {0:.2f}s.'.format(end - start))\n",
    "\n",
    "    def predict(self, data, layer_name='prediction'):\n",
    "        with self._tf_graph.as_default():\n",
    "            with tf.Session(graph=self._tf_graph) as sess:\n",
    "                saver = tf.train.Saver()\n",
    "                saver.restore(sess, self._saved_model_path)\n",
    "                return sess.run(self._tf_dict[layer_name], feed_dict={self._tf_dict['X']: data})\n",
    "\n",
    "    @classmethod\n",
    "    def _get_tf_dict(cls, grah, img_size, num_categories, learning_rate, momentum):\n",
    "        with grah.as_default():\n",
    "            res = dict()\n",
    "            res['X'] = tf.placeholder(tf.float32, shape=(None, *img_size), name='input')\n",
    "            res['Y'] = tf.placeholder(tf.float32, shape=(None, num_categories), name='output')\n",
    "\n",
    "            res['filter_1'], res['conv_1'] = cls._filter_conv(res['X'], shape=(3, 3, img_size[-1], 64))\n",
    "            res['filter_2'], res['conv_2'] = cls._filter_conv(res['conv_1'], shape=(3, 3, 64, 64))\n",
    "            res['maxpool_3'] = cls._pool(res['conv_2'], 'MAX')\n",
    "\n",
    "            res['filter_4'], res['conv_4'] = cls._filter_conv(res['maxpool_3'], shape=(3, 3, 64, 128))\n",
    "            res['filter_5'], res['conv_5'] = cls._filter_conv(res['conv_4'], shape=(3, 3, 128, 128))\n",
    "            res['maxpool_6'] = cls._pool(res['conv_5'], 'MAX')\n",
    "\n",
    "            res['filter_7'], res['conv_7'] = cls._filter_conv(res['maxpool_6'], shape=(3, 3, 128, 256))\n",
    "            res['filter_8'], res['conv_8'] = cls._filter_conv(res['conv_7'], shape=(3, 3, 256, 256))\n",
    "            res['filter_9'], res['conv_9'] = cls._filter_conv(res['conv_8'], shape=(3, 3, 256, 256))\n",
    "            res['maxpool_10'] = cls._pool(res['conv_9'], 'MAX')\n",
    "\n",
    "            res['filter_11'], res['conv_11'] = cls._filter_conv(res['maxpool_10'], shape=(3, 3, 256, 512))\n",
    "            res['filter_12'], res['conv_12'] = cls._filter_conv(res['conv_11'], shape=(3, 3, 512, 512))\n",
    "            res['filter_13'], res['conv_13'] = cls._filter_conv(res['conv_12'], shape=(3, 3, 512, 512))\n",
    "            res['maxpool_14'] = cls._pool(res['conv_13'], 'MAX')\n",
    "\n",
    "            res['filter_15'], res['conv_15'] = cls._filter_conv(res['maxpool_14'], shape=(3, 3, 512, 512))\n",
    "            res['filter_16'], res['conv_16'] = cls._filter_conv(res['conv_15'], shape=(3, 3, 512, 512))\n",
    "            res['filter_17'], res['conv_17'] = cls._filter_conv(res['conv_16'], shape=(3, 3, 512, 512))\n",
    "            res['maxpool_18'] = cls._pool(res['conv_17'], 'MAX')\n",
    "\n",
    "#             unfold_shape = [512] if img_size[-1] == 1 else [7 * 7 * 512] # TODO: a hack\n",
    "            res['fc_19'] = tf.layers.Flatten()(res['maxpool_18'])\n",
    "            res['fc_20'] = tf.layers.dense(inputs=res['maxpool_18'], units=4096, activation=tf.nn.relu, trainable=True)\n",
    "            res['fc_21'] = tf.layers.dense(inputs=res['fc_20'], units=4096, activation=tf.nn.relu, trainable=True)\n",
    "            res['fc_22'] = tf.layers.dense(inputs=res['fc_21'], units=num_categories, activation=tf.nn.relu, trainable=True)\n",
    "\n",
    "            res['cost'] = tf.reduce_sum(tf.nn.softmax_cross_entropy_with_logits_v2(\n",
    "                labels=res['Y'],\n",
    "                logits=res['fc_22']\n",
    "            ))\n",
    "            res['prediction'] = tf.argmax(tf.nn.softmax(res['fc_22'], axis=-1), axis=-1)\n",
    "            res['optimizer'] = tf.train.AdamOptimizer(\n",
    "                learning_rate=learning_rate,\n",
    "                beta1=momentum\n",
    "            ).minimize(res['cost'])\n",
    "\n",
    "            return res\n",
    "\n",
    "    @classmethod\n",
    "    def _filter_conv(cls, input_value, shape, strides=(1, 1, 1, 1), padding='SAME', dtype=tf.float32):\n",
    "        res_filter = tf.Variable(tf.random_normal(shape), dtype=tf.float32, trainable=True)\n",
    "        res_conv = tf.nn.conv2d(input=input_value, filter=res_filter, strides=strides, padding=padding)\n",
    "        res_relu = tf.nn.relu(res_conv)\n",
    "        return res_filter, res_relu\n",
    "    \n",
    "    @classmethod\n",
    "    def _pool(cls, input_value, pool_style, ksize=(1, 2, 2, 1), strides=(1, 2, 2, 1), padding='SAME'):\n",
    "        res_func = tf.nn.max_pool if pool_style == 'MAX' else tf.nn.avg_pool\n",
    "        return res_func(value=input_value, ksize=ksize, strides=strides, padding=padding)"
   ]
  },
  {
   "cell_type": "markdown",
   "metadata": {
    "collapsed": true
   },
   "source": [
    "## 2. Get MNIST Dataset"
   ]
  },
  {
   "cell_type": "code",
   "execution_count": 4,
   "metadata": {},
   "outputs": [],
   "source": [
    "from tensorflow.examples.tutorials.mnist import input_data"
   ]
  },
  {
   "cell_type": "code",
   "execution_count": 5,
   "metadata": {},
   "outputs": [
    {
     "name": "stdout",
     "output_type": "stream",
     "text": [
      "WARNING:tensorflow:From <ipython-input-5-478afc6797d1>:1: read_data_sets (from tensorflow.contrib.learn.python.learn.datasets.mnist) is deprecated and will be removed in a future version.\n",
      "Instructions for updating:\n",
      "Please use alternatives such as official/mnist/dataset.py from tensorflow/models.\n",
      "WARNING:tensorflow:From c:\\program files\\python35\\lib\\site-packages\\tensorflow\\contrib\\learn\\python\\learn\\datasets\\mnist.py:260: maybe_download (from tensorflow.contrib.learn.python.learn.datasets.base) is deprecated and will be removed in a future version.\n",
      "Instructions for updating:\n",
      "Please write your own downloading logic.\n",
      "WARNING:tensorflow:From c:\\program files\\python35\\lib\\site-packages\\tensorflow\\contrib\\learn\\python\\learn\\datasets\\mnist.py:262: extract_images (from tensorflow.contrib.learn.python.learn.datasets.mnist) is deprecated and will be removed in a future version.\n",
      "Instructions for updating:\n",
      "Please use tf.data to implement this functionality.\n",
      "Extracting data/mnist\\train-images-idx3-ubyte.gz\n",
      "WARNING:tensorflow:From c:\\program files\\python35\\lib\\site-packages\\tensorflow\\contrib\\learn\\python\\learn\\datasets\\mnist.py:267: extract_labels (from tensorflow.contrib.learn.python.learn.datasets.mnist) is deprecated and will be removed in a future version.\n",
      "Instructions for updating:\n",
      "Please use tf.data to implement this functionality.\n",
      "Extracting data/mnist\\train-labels-idx1-ubyte.gz\n",
      "WARNING:tensorflow:From c:\\program files\\python35\\lib\\site-packages\\tensorflow\\contrib\\learn\\python\\learn\\datasets\\mnist.py:110: dense_to_one_hot (from tensorflow.contrib.learn.python.learn.datasets.mnist) is deprecated and will be removed in a future version.\n",
      "Instructions for updating:\n",
      "Please use tf.one_hot on tensors.\n",
      "Extracting data/mnist\\t10k-images-idx3-ubyte.gz\n",
      "Extracting data/mnist\\t10k-labels-idx1-ubyte.gz\n",
      "WARNING:tensorflow:From c:\\program files\\python35\\lib\\site-packages\\tensorflow\\contrib\\learn\\python\\learn\\datasets\\mnist.py:290: DataSet.__init__ (from tensorflow.contrib.learn.python.learn.datasets.mnist) is deprecated and will be removed in a future version.\n",
      "Instructions for updating:\n",
      "Please use alternatives such as official/mnist/dataset.py from tensorflow/models.\n"
     ]
    }
   ],
   "source": [
    "mnist = input_data.read_data_sets(\"data/mnist\", one_hot=True, reshape=False)"
   ]
  },
  {
   "cell_type": "code",
   "execution_count": 6,
   "metadata": {},
   "outputs": [],
   "source": [
    "model = VGG16(\n",
    "    img_size=mnist.train.images.shape[1:],\n",
    "    num_categories=10,\n",
    "    learning_rate=100\n",
    ")"
   ]
  },
  {
   "cell_type": "code",
   "execution_count": 7,
   "metadata": {
    "scrolled": true
   },
   "outputs": [
    {
     "name": "stdout",
     "output_type": "stream",
     "text": [
      "Started training...\n",
      "Finished epoch 100...\n",
      "Finished epoch 200...\n",
      "Finished epoch 300...\n",
      "Finished epoch 400...\n",
      "Finished epoch 500...\n",
      "Finished epoch 600...\n",
      "Finished epoch 700...\n",
      "Finished epoch 800...\n",
      "Finished epoch 900...\n",
      "Finished epoch 1000...\n",
      "Finished training, modeld saved.\n",
      "Time elapsed: 113.21s.\n"
     ]
    }
   ],
   "source": [
    "model.train(mnist, batch_size=256, num_epoch=1000)"
   ]
  },
  {
   "cell_type": "code",
   "execution_count": 8,
   "metadata": {},
   "outputs": [
    {
     "data": {
      "image/png": "[encoded data removed]",
      "text/plain": [
       "<matplotlib.figure.Figure at 0x22f18f56940>"
      ]
     },
     "metadata": {},
     "output_type": "display_data"
    }
   ],
   "source": [
    "plot_loss_graph(model._train_loss, model._dev_loss)"
   ]
  },
  {
   "cell_type": "code",
   "execution_count": 9,
   "metadata": {},
   "outputs": [
    {
     "name": "stdout",
     "output_type": "stream",
     "text": [
      "INFO:tensorflow:Restoring parameters from C:\\Users\\SHUYAN~1\\AppData\\Local\\Temp\\tmp_hpj2whr\\model.ckpt\n"
     ]
    },
    {
     "data": {
      "text/plain": [
       "array([[[0]],\n",
       "\n",
       "       [[0]],\n",
       "\n",
       "       [[0]],\n",
       "\n",
       "       [[0]],\n",
       "\n",
       "       [[0]],\n",
       "\n",
       "       [[0]],\n",
       "\n",
       "       [[0]],\n",
       "\n",
       "       [[0]],\n",
       "\n",
       "       [[0]],\n",
       "\n",
       "       [[0]]], dtype=int64)"
      ]
     },
     "execution_count": 9,
     "metadata": {},
     "output_type": "execute_result"
    }
   ],
   "source": [
    "model.predict(mnist.test.images[:10], 'prediction')"
   ]
  },
  {
   "cell_type": "code",
   "execution_count": 10,
   "metadata": {},
   "outputs": [
    {
     "data": {
      "text/plain": [
       "array([7, 2, 1, 0, 4, 1, 4, 9, 5, 9], dtype=int64)"
      ]
     },
     "execution_count": 10,
     "metadata": {},
     "output_type": "execute_result"
    }
   ],
   "source": [
    "np.argmax(mnist.test.labels[:10], axis=-1)"
   ]
  }
 ],
 "metadata": {
  "kernelspec": {
   "display_name": "Python 3",
   "language": "python",
   "name": "python3"
  },
  "language_info": {
   "codemirror_mode": {
    "name": "ipython",
    "version": 3
   },
   "file_extension": ".py",
   "mimetype": "text/x-python",
   "name": "python",
   "nbconvert_exporter": "python",
   "pygments_lexer": "ipython3",
   "version": "3.5.4"
  }
 },
 "nbformat": 4,
 "nbformat_minor": 2
}
