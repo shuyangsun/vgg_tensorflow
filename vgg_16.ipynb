{
 "cells": [
  {
   "cell_type": "code",
   "execution_count": 1,
   "metadata": {
    "collapsed": true
   },
   "outputs": [],
   "source": [
    "import numpy as np\n",
    "import tensorflow as tf\n",
    "import matplotlib.pyplot as plt"
   ]
  },
  {
   "cell_type": "code",
   "execution_count": 2,
   "metadata": {
    "collapsed": true
   },
   "outputs": [],
   "source": [
    "class VGG16:\n",
    "    def __init__(self, img_size=(224, 224, 3), filter_size=(3, 3)):\n",
    "        self._tf_dict = self._get_tf_dict(img_size)\n",
    "    \n",
    "    def train(data):\n",
    "        pass\n",
    "    \n",
    "    def predict(data):\n",
    "        pass\n",
    "    \n",
    "    @classmethod\n",
    "    def _get_tf_dict(cls, img_size, num_categories=1000):\n",
    "        res = dict()\n",
    "        res['X'] = tf.placeholder(tf.float32, shape=(None, *img_size))\n",
    "        \n",
    "        res['filter_1'], res['conv_1'] = cls._filter_conv(res['X'], shape=(3, 3, img_size[-1], 64))\n",
    "        res['filter_2'], res['conv_2'] = cls._filter_conv(res['conv_1'], shape=(3, 3, 64, 64))\n",
    "        res['maxpool_3'] = cls._pool(res['conv_2'], 'MAX')\n",
    "        \n",
    "        res['filter_4'], res['conv_4'] = cls._filter_conv(res['maxpool_3'], shape=(3, 3, 64, 128))\n",
    "        res['filter_5'], res['conv_5'] = cls._filter_conv(res['conv_4'], shape=(3, 3, 128, 128))\n",
    "        res['maxpool_6'] = cls._pool(res['conv_5'], 'MAX')\n",
    "        \n",
    "        res['filter_7'], res['conv_7'] = cls._filter_conv(res['maxpool_6'], shape=(3, 3, 128, 256))\n",
    "        res['filter_8'], res['conv_8'] = cls._filter_conv(res['conv_7'], shape=(3, 3, 256, 256))\n",
    "        res['filter_9'], res['conv_9'] = cls._filter_conv(res['conv_8'], shape=(3, 3, 256, 256))\n",
    "        res['maxpool_10'] = cls._pool(res['conv_9'], 'MAX')\n",
    "        \n",
    "        res['filter_11'], res['conv_11'] = cls._filter_conv(res['maxpool_10'], shape=(3, 3, 256, 512))\n",
    "        res['filter_12'], res['conv_12'] = cls._filter_conv(res['conv_11'], shape=(3, 3, 512, 512))\n",
    "        res['filter_13'], res['conv_13'] = cls._filter_conv(res['conv_12'], shape=(3, 3, 512, 512))\n",
    "        res['maxpool_14'] = cls._pool(res['conv_13'], 'MAX')\n",
    "        \n",
    "        res['filter_15'], res['conv_15'] = cls._filter_conv(res['maxpool_14'], shape=(3, 3, 512, 512))\n",
    "        res['filter_16'], res['conv_16'] = cls._filter_conv(res['conv_15'], shape=(3, 3, 512, 512))\n",
    "        res['filter_17'], res['conv_17'] = cls._filter_conv(res['conv_16'], shape=(3, 3, 512, 512))\n",
    "        res['maxpool_18'] = cls._pool(res['conv_17'], 'MAX')\n",
    "        \n",
    "        res['fc_19'] = tf.reshape(res['maxpool_18'], shape=(-1, 7 * 7 * 512))\n",
    "        res['fc_20'] = tf.layers.dense(inputs=res['fc_19'], units=4096, activation=tf.nn.relu)\n",
    "        res['fc_21'] = tf.layers.dense(inputs=res['fc_20'], units=4096, activation=tf.nn.relu)\n",
    "        res['fc_22'] = tf.layers.dense(inputs=res['fc_21'], units=num_categories, activation=tf.nn.relu)\n",
    "        res['output'] = tf.nn.softmax_cross_entropy_with_logits_v2(labels=np.arange(num_categories), logits=res['fc_22'])\n",
    "        res['prediction'] = tf.argmax(res['output'], -1)\n",
    "        \n",
    "        return res\n",
    "        \n",
    "    @classmethod\n",
    "    def _filter_conv(cls, input_value, shape, strides=(1, 1, 1, 1), padding='SAME', dtype=tf.float32):\n",
    "        res_filter = tf.Variable(tf.random_normal(shape), dtype=tf.float32)\n",
    "        res_conv = tf.nn.conv2d(input=input_value, filter=res_filter, strides=strides, padding=padding)\n",
    "        return res_filter, res_conv\n",
    "    \n",
    "    @classmethod\n",
    "    def _pool(cls, input_value, pool_style, ksize=(1, 2, 2, 1), strides=(1, 2, 2, 1), padding='SAME'):\n",
    "        res_func = tf.nn.max_pool if pool_style == 'MAX' else tf.nn.avg_pool\n",
    "        return res_func(value=input_value, ksize=ksize, strides=strides, padding=padding)\n",
    "        "
   ]
  },
  {
   "cell_type": "code",
   "execution_count": 3,
   "metadata": {},
   "outputs": [],
   "source": [
    "model = VGG16()"
   ]
  },
  {
   "cell_type": "code",
   "execution_count": null,
   "metadata": {
    "collapsed": true
   },
   "outputs": [],
   "source": []
  }
 ],
 "metadata": {
  "kernelspec": {
   "display_name": "Python 3",
   "language": "python",
   "name": "python3"
  },
  "language_info": {
   "codemirror_mode": {
    "name": "ipython",
    "version": 3
   },
   "file_extension": ".py",
   "mimetype": "text/x-python",
   "name": "python",
   "nbconvert_exporter": "python",
   "pygments_lexer": "ipython3",
   "version": "3.5.4"
  }
 },
 "nbformat": 4,
 "nbformat_minor": 2
}
